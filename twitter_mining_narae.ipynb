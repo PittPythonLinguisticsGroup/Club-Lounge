{
 "cells": [
  {
   "cell_type": "markdown",
   "metadata": {},
   "source": [
    "# Twitter Mining\n",
    "Na-Rae Han, Feb 19, 2019\n",
    "\n",
    "We will take a look at two methods:\n",
    "1. Process static Twitter corpus files\n",
    "2. Gather up and mine live-tweets through Twitter API (Application Program Interfact)"
   ]
  },
  {
   "cell_type": "code",
   "execution_count": 1,
   "metadata": {},
   "outputs": [],
   "source": [
    "import pandas as pd\n",
    "import json\n",
    "import tweepy"
   ]
  },
  {
   "cell_type": "markdown",
   "metadata": {},
   "source": [
    "## Processing a static Twitter corpus\n",
    "Twitter Samples corpus downloaded from http://www.nltk.org/nltk_data/"
   ]
  },
  {
   "cell_type": "code",
   "execution_count": 2,
   "metadata": {
    "scrolled": true
   },
   "outputs": [
    {
     "data": {
      "text/plain": [
       "'{\"contributors\": null, \"coordinates\": null, \"text\": \"#FollowFriday @France_Inte @PKuchly57 @Milipol_Paris for being top engaged members in my community this week :)\", \"user\": {\"time_zone\": \"Paris\", \"profile_background_image_url\": \"http://pbs.twimg.com/profile_background_images/784477066/7a8d261ef8d27f2bdf08fadac65bea7b.jpeg\", \"geo_enabled\": true, \"profile_image_url_https\": \"https://pbs.twimg.com/profile_images/567331322830413825/bqH6u2DO_normal.jpeg\", \"url\": \"http://t.co/iY2ZZAJY1Y\", \"profile_text_color\": \"000000\", \"entities\": {\"url\": {\"urls\": [{\"url\": \"http://t.co/iY2ZZAJY1Y\", \"indices\": [0, 22], \"expanded_url\": \"http://www.international.cci-paris-idf.fr\", \"display_url\": \"international.cci-paris-idf.fr\"}]}, \"description\": {\"urls\": [{\"url\": \"http://t.co/wGg73YM5yh\", \"indices\": [102, 124], \"expanded_url\": \"http://ow.ly/KwxhI\", \"display_url\": \"ow.ly/KwxhI\"}]}}, \"listed_count\": 296, \"statuses_count\": 12858, \"profile_sidebar_fill_color\": \"DDFFCC\", \"profile_sidebar_border_color\": \"FFFFFF\", \"name\": \"CCIParisExport\", \"followers_count\": 3683, \"location\": \"France\", \"lang\": \"fr\", \"profile_background_image_url_https\": \"https://pbs.twimg.com/profile_background_images/784477066/7a8d261ef8d27f2bdf08fadac65bea7b.jpeg\", \"verified\": false, \"notifications\": false, \"default_profile_image\": false, \"profile_use_background_image\": true, \"created_at\": \"Thu Feb 18 13:18:49 +0000 2010\", \"favourites_count\": 1089, \"friends_count\": 1505, \"has_extended_profile\": false, \"utc_offset\": 7200, \"profile_background_color\": \"CEDFE9\", \"is_translator\": false, \"contributors_enabled\": false, \"profile_image_url\": \"http://pbs.twimg.com/profile_images/567331322830413825/bqH6u2DO_normal.jpeg\", \"profile_link_color\": \"02437B\", \"is_translation_enabled\": false, \"profile_banner_url\": \"https://pbs.twimg.com/profile_banners/115376341/1431008625\", \"id_str\": \"115376341\", \"follow_request_sent\": false, \"screen_name\": \"CCIParis_Export\", \"following\": false, \"default_profile\": false, \"profile_background_tile\": false, \"id\": 115376341, \"description\": \"D\\\\u00e9veloppez votre #Entreprise \\\\u00e0 l\\\\u2019#Export avec votre #CCI ! Vous pr\\\\u00e9f\\\\u00e9rez Linkedin ? Connectons-nous ! http://t.co/wGg73YM5yh #Commerce #International\", \"protected\": false}, \"retweet_count\": 0, \"favorited\": false, \"entities\": {\"hashtags\": [{\"indices\": [0, 13], \"text\": \"FollowFriday\"}], \"user_mentions\": [{\"screen_name\": \"France_Inte\", \"indices\": [14, 26], \"id_str\": \"3222273608\", \"id\": 3222273608, \"name\": \"France International\"}, {\"screen_name\": \"PKuchly57\", \"indices\": [27, 37], \"id_str\": \"164313583\", \"id\": 164313583, \"name\": \"Pierre KUCHLY\"}, {\"screen_name\": \"Milipol_Paris\", \"indices\": [38, 52], \"id_str\": \"1100740914\", \"id\": 1100740914, \"name\": \"Milipol Paris\"}], \"urls\": [], \"symbols\": []}, \"source\": \"<a href=\\\\\"https://commun.it\\\\\" rel=\\\\\"nofollow\\\\\">Commun.it</a>\", \"truncated\": false, \"geo\": null, \"in_reply_to_status_id_str\": null, \"is_quote_status\": false, \"in_reply_to_user_id_str\": null, \"place\": null, \"in_reply_to_status_id\": null, \"in_reply_to_screen_name\": null, \"lang\": \"en\", \"retweeted\": false, \"in_reply_to_user_id\": null, \"created_at\": \"Fri Jul 24 08:23:36 +0000 2015\", \"metadata\": {\"iso_language_code\": \"en\", \"result_type\": \"recent\"}, \"favorite_count\": 0, \"id_str\": \"624495129303351296\", \"id\": 624495129303351296}\\n'"
      ]
     },
     "execution_count": 2,
     "metadata": {},
     "output_type": "execute_result"
    }
   ],
   "source": [
    "# One json object per line \n",
    "jfile = 'D:/Corpora/twitter_samples/positive_tweets.json'\n",
    "jlines = open(jfile).readlines()\n",
    "jlines[0]"
   ]
  },
  {
   "cell_type": "code",
   "execution_count": 3,
   "metadata": {},
   "outputs": [
    {
     "data": {
      "text/plain": [
       "{'contributors': None,\n",
       " 'coordinates': None,\n",
       " 'text': '#FollowFriday @France_Inte @PKuchly57 @Milipol_Paris for being top engaged members in my community this week :)',\n",
       " 'user': {'time_zone': 'Paris',\n",
       "  'profile_background_image_url': 'http://pbs.twimg.com/profile_background_images/784477066/7a8d261ef8d27f2bdf08fadac65bea7b.jpeg',\n",
       "  'geo_enabled': True,\n",
       "  'profile_image_url_https': 'https://pbs.twimg.com/profile_images/567331322830413825/bqH6u2DO_normal.jpeg',\n",
       "  'url': 'http://t.co/iY2ZZAJY1Y',\n",
       "  'profile_text_color': '000000',\n",
       "  'entities': {'url': {'urls': [{'url': 'http://t.co/iY2ZZAJY1Y',\n",
       "      'indices': [0, 22],\n",
       "      'expanded_url': 'http://www.international.cci-paris-idf.fr',\n",
       "      'display_url': 'international.cci-paris-idf.fr'}]},\n",
       "   'description': {'urls': [{'url': 'http://t.co/wGg73YM5yh',\n",
       "      'indices': [102, 124],\n",
       "      'expanded_url': 'http://ow.ly/KwxhI',\n",
       "      'display_url': 'ow.ly/KwxhI'}]}},\n",
       "  'listed_count': 296,\n",
       "  'statuses_count': 12858,\n",
       "  'profile_sidebar_fill_color': 'DDFFCC',\n",
       "  'profile_sidebar_border_color': 'FFFFFF',\n",
       "  'name': 'CCIParisExport',\n",
       "  'followers_count': 3683,\n",
       "  'location': 'France',\n",
       "  'lang': 'fr',\n",
       "  'profile_background_image_url_https': 'https://pbs.twimg.com/profile_background_images/784477066/7a8d261ef8d27f2bdf08fadac65bea7b.jpeg',\n",
       "  'verified': False,\n",
       "  'notifications': False,\n",
       "  'default_profile_image': False,\n",
       "  'profile_use_background_image': True,\n",
       "  'created_at': 'Thu Feb 18 13:18:49 +0000 2010',\n",
       "  'favourites_count': 1089,\n",
       "  'friends_count': 1505,\n",
       "  'has_extended_profile': False,\n",
       "  'utc_offset': 7200,\n",
       "  'profile_background_color': 'CEDFE9',\n",
       "  'is_translator': False,\n",
       "  'contributors_enabled': False,\n",
       "  'profile_image_url': 'http://pbs.twimg.com/profile_images/567331322830413825/bqH6u2DO_normal.jpeg',\n",
       "  'profile_link_color': '02437B',\n",
       "  'is_translation_enabled': False,\n",
       "  'profile_banner_url': 'https://pbs.twimg.com/profile_banners/115376341/1431008625',\n",
       "  'id_str': '115376341',\n",
       "  'follow_request_sent': False,\n",
       "  'screen_name': 'CCIParis_Export',\n",
       "  'following': False,\n",
       "  'default_profile': False,\n",
       "  'profile_background_tile': False,\n",
       "  'id': 115376341,\n",
       "  'description': 'Développez votre #Entreprise à l’#Export avec votre #CCI ! Vous préférez Linkedin ? Connectons-nous ! http://t.co/wGg73YM5yh #Commerce #International',\n",
       "  'protected': False},\n",
       " 'retweet_count': 0,\n",
       " 'favorited': False,\n",
       " 'entities': {'hashtags': [{'indices': [0, 13], 'text': 'FollowFriday'}],\n",
       "  'user_mentions': [{'screen_name': 'France_Inte',\n",
       "    'indices': [14, 26],\n",
       "    'id_str': '3222273608',\n",
       "    'id': 3222273608,\n",
       "    'name': 'France International'},\n",
       "   {'screen_name': 'PKuchly57',\n",
       "    'indices': [27, 37],\n",
       "    'id_str': '164313583',\n",
       "    'id': 164313583,\n",
       "    'name': 'Pierre KUCHLY'},\n",
       "   {'screen_name': 'Milipol_Paris',\n",
       "    'indices': [38, 52],\n",
       "    'id_str': '1100740914',\n",
       "    'id': 1100740914,\n",
       "    'name': 'Milipol Paris'}],\n",
       "  'urls': [],\n",
       "  'symbols': []},\n",
       " 'source': '<a href=\"https://commun.it\" rel=\"nofollow\">Commun.it</a>',\n",
       " 'truncated': False,\n",
       " 'geo': None,\n",
       " 'in_reply_to_status_id_str': None,\n",
       " 'is_quote_status': False,\n",
       " 'in_reply_to_user_id_str': None,\n",
       " 'place': None,\n",
       " 'in_reply_to_status_id': None,\n",
       " 'in_reply_to_screen_name': None,\n",
       " 'lang': 'en',\n",
       " 'retweeted': False,\n",
       " 'in_reply_to_user_id': None,\n",
       " 'created_at': 'Fri Jul 24 08:23:36 +0000 2015',\n",
       " 'metadata': {'iso_language_code': 'en', 'result_type': 'recent'},\n",
       " 'favorite_count': 0,\n",
       " 'id_str': '624495129303351296',\n",
       " 'id': 624495129303351296}"
      ]
     },
     "execution_count": 3,
     "metadata": {},
     "output_type": "execute_result"
    }
   ],
   "source": [
    "# using json library to read line. \n",
    "import json\n",
    "json.loads(jlines[0])"
   ]
  },
  {
   "cell_type": "code",
   "execution_count": 4,
   "metadata": {},
   "outputs": [
    {
     "data": {
      "text/plain": [
       "dict"
      ]
     },
     "execution_count": 4,
     "metadata": {},
     "output_type": "execute_result"
    }
   ],
   "source": [
    "# json.loads returns a dictionray type. Nested, as you can see above. \n",
    "type(json.loads(jlines[0]))"
   ]
  },
  {
   "cell_type": "code",
   "execution_count": 5,
   "metadata": {},
   "outputs": [
    {
     "name": "stdout",
     "output_type": "stream",
     "text": [
      "#FollowFriday @France_Inte @PKuchly57 @Milipol_Paris for being top engaged members in my community this week :)\n"
     ]
    }
   ],
   "source": [
    "tweet1 = json.loads(jlines[0])\n",
    "print(tweet1['text'])"
   ]
  },
  {
   "cell_type": "markdown",
   "metadata": {},
   "source": [
    "#### Reading a line-delimited json file through pandas"
   ]
  },
  {
   "cell_type": "code",
   "execution_count": 6,
   "metadata": {},
   "outputs": [
    {
     "data": {
      "text/html": [
       "<div>\n",
       "<style scoped>\n",
       "    .dataframe tbody tr th:only-of-type {\n",
       "        vertical-align: middle;\n",
       "    }\n",
       "\n",
       "    .dataframe tbody tr th {\n",
       "        vertical-align: top;\n",
       "    }\n",
       "\n",
       "    .dataframe thead th {\n",
       "        text-align: right;\n",
       "    }\n",
       "</style>\n",
       "<table border=\"1\" class=\"dataframe\">\n",
       "  <thead>\n",
       "    <tr style=\"text-align: right;\">\n",
       "      <th></th>\n",
       "      <th>contributors</th>\n",
       "      <th>coordinates</th>\n",
       "      <th>created_at</th>\n",
       "      <th>entities</th>\n",
       "      <th>favorite_count</th>\n",
       "      <th>favorited</th>\n",
       "      <th>geo</th>\n",
       "      <th>id</th>\n",
       "      <th>id_str</th>\n",
       "      <th>in_reply_to_screen_name</th>\n",
       "      <th>...</th>\n",
       "      <th>possibly_sensitive</th>\n",
       "      <th>quoted_status</th>\n",
       "      <th>quoted_status_id</th>\n",
       "      <th>quoted_status_id_str</th>\n",
       "      <th>retweet_count</th>\n",
       "      <th>retweeted</th>\n",
       "      <th>source</th>\n",
       "      <th>text</th>\n",
       "      <th>truncated</th>\n",
       "      <th>user</th>\n",
       "    </tr>\n",
       "  </thead>\n",
       "  <tbody>\n",
       "    <tr>\n",
       "      <th>3113</th>\n",
       "      <td>NaN</td>\n",
       "      <td>None</td>\n",
       "      <td>2015-07-24 08:15:56</td>\n",
       "      <td>{'hashtags': [], 'user_mentions': [{'screen_na...</td>\n",
       "      <td>0</td>\n",
       "      <td>False</td>\n",
       "      <td>None</td>\n",
       "      <td>624493203060867072</td>\n",
       "      <td>624493203060867072</td>\n",
       "      <td>mikecoulson48</td>\n",
       "      <td>...</td>\n",
       "      <td>NaN</td>\n",
       "      <td>NaN</td>\n",
       "      <td>NaN</td>\n",
       "      <td>NaN</td>\n",
       "      <td>0</td>\n",
       "      <td>False</td>\n",
       "      <td>&lt;a href=\"http://twitter.com\" rel=\"nofollow\"&gt;Tw...</td>\n",
       "      <td>@mikecoulson48 @UtopianFireman @Jenny_Musings ...</td>\n",
       "      <td>False</td>\n",
       "      <td>{'time_zone': 'Casablanca', 'profile_backgroun...</td>\n",
       "    </tr>\n",
       "    <tr>\n",
       "      <th>70</th>\n",
       "      <td>NaN</td>\n",
       "      <td>None</td>\n",
       "      <td>2015-07-24 08:23:25</td>\n",
       "      <td>{'hashtags': [{'indices': [0, 23], 'text': 'Ha...</td>\n",
       "      <td>0</td>\n",
       "      <td>False</td>\n",
       "      <td>None</td>\n",
       "      <td>624495083694497792</td>\n",
       "      <td>624495083694497792</td>\n",
       "      <td>None</td>\n",
       "      <td>...</td>\n",
       "      <td>0.0</td>\n",
       "      <td>NaN</td>\n",
       "      <td>NaN</td>\n",
       "      <td>NaN</td>\n",
       "      <td>0</td>\n",
       "      <td>False</td>\n",
       "      <td>&lt;a href=\"http://instagram.com\" rel=\"nofollow\"&gt;...</td>\n",
       "      <td>#HappyBirthdayEmilyBett @emilybett :) Wishing ...</td>\n",
       "      <td>False</td>\n",
       "      <td>{'time_zone': 'Madrid', 'profile_background_im...</td>\n",
       "    </tr>\n",
       "    <tr>\n",
       "      <th>430</th>\n",
       "      <td>NaN</td>\n",
       "      <td>None</td>\n",
       "      <td>2015-07-24 08:22:29</td>\n",
       "      <td>{'hashtags': [{'indices': [30, 38], 'text': 'T...</td>\n",
       "      <td>0</td>\n",
       "      <td>False</td>\n",
       "      <td>None</td>\n",
       "      <td>624494852252811266</td>\n",
       "      <td>624494852252811264</td>\n",
       "      <td>UMAR_FAROUK7</td>\n",
       "      <td>...</td>\n",
       "      <td>NaN</td>\n",
       "      <td>NaN</td>\n",
       "      <td>NaN</td>\n",
       "      <td>NaN</td>\n",
       "      <td>0</td>\n",
       "      <td>False</td>\n",
       "      <td>&lt;a href=\"http://engagor.com\" rel=\"nofollow\"&gt;En...</td>\n",
       "      <td>@umar_farouk7 Welcome back to #TeamRed :)</td>\n",
       "      <td>False</td>\n",
       "      <td>{'time_zone': 'Pretoria', 'profile_background_...</td>\n",
       "    </tr>\n",
       "    <tr>\n",
       "      <th>1382</th>\n",
       "      <td>NaN</td>\n",
       "      <td>None</td>\n",
       "      <td>2015-07-24 08:20:10</td>\n",
       "      <td>{'hashtags': [], 'user_mentions': [{'screen_na...</td>\n",
       "      <td>0</td>\n",
       "      <td>False</td>\n",
       "      <td>None</td>\n",
       "      <td>624494266442604545</td>\n",
       "      <td>624494266442604544</td>\n",
       "      <td>JhMarkotsis</td>\n",
       "      <td>...</td>\n",
       "      <td>NaN</td>\n",
       "      <td>NaN</td>\n",
       "      <td>NaN</td>\n",
       "      <td>NaN</td>\n",
       "      <td>0</td>\n",
       "      <td>False</td>\n",
       "      <td>&lt;a href=\"http://twitter.com/download/android\" ...</td>\n",
       "      <td>@JhMarkotsis am driving up tomorrow if you sti...</td>\n",
       "      <td>False</td>\n",
       "      <td>{'time_zone': 'Auckland', 'profile_background_...</td>\n",
       "    </tr>\n",
       "    <tr>\n",
       "      <th>4510</th>\n",
       "      <td>NaN</td>\n",
       "      <td>None</td>\n",
       "      <td>2015-07-24 08:12:35</td>\n",
       "      <td>{'hashtags': [], 'user_mentions': [], 'urls': ...</td>\n",
       "      <td>0</td>\n",
       "      <td>False</td>\n",
       "      <td>None</td>\n",
       "      <td>624492357401071616</td>\n",
       "      <td>624492357401071616</td>\n",
       "      <td>None</td>\n",
       "      <td>...</td>\n",
       "      <td>0.0</td>\n",
       "      <td>{'contributors': None, 'coordinates': None, 't...</td>\n",
       "      <td>6.242042e+17</td>\n",
       "      <td>6.242042e+17</td>\n",
       "      <td>0</td>\n",
       "      <td>False</td>\n",
       "      <td>&lt;a href=\"http://twitter.com\" rel=\"nofollow\"&gt;Tw...</td>\n",
       "      <td>I second that! Well done :) https://t.co/PeTkj...</td>\n",
       "      <td>False</td>\n",
       "      <td>{'time_zone': 'Amsterdam', 'profile_background...</td>\n",
       "    </tr>\n",
       "  </tbody>\n",
       "</table>\n",
       "<p>5 rows × 28 columns</p>\n",
       "</div>"
      ],
      "text/plain": [
       "      contributors coordinates          created_at  \\\n",
       "3113           NaN        None 2015-07-24 08:15:56   \n",
       "70             NaN        None 2015-07-24 08:23:25   \n",
       "430            NaN        None 2015-07-24 08:22:29   \n",
       "1382           NaN        None 2015-07-24 08:20:10   \n",
       "4510           NaN        None 2015-07-24 08:12:35   \n",
       "\n",
       "                                               entities  favorite_count  \\\n",
       "3113  {'hashtags': [], 'user_mentions': [{'screen_na...               0   \n",
       "70    {'hashtags': [{'indices': [0, 23], 'text': 'Ha...               0   \n",
       "430   {'hashtags': [{'indices': [30, 38], 'text': 'T...               0   \n",
       "1382  {'hashtags': [], 'user_mentions': [{'screen_na...               0   \n",
       "4510  {'hashtags': [], 'user_mentions': [], 'urls': ...               0   \n",
       "\n",
       "      favorited   geo                  id              id_str  \\\n",
       "3113      False  None  624493203060867072  624493203060867072   \n",
       "70        False  None  624495083694497792  624495083694497792   \n",
       "430       False  None  624494852252811266  624494852252811264   \n",
       "1382      False  None  624494266442604545  624494266442604544   \n",
       "4510      False  None  624492357401071616  624492357401071616   \n",
       "\n",
       "     in_reply_to_screen_name  \\\n",
       "3113           mikecoulson48   \n",
       "70                      None   \n",
       "430             UMAR_FAROUK7   \n",
       "1382             JhMarkotsis   \n",
       "4510                    None   \n",
       "\n",
       "                            ...                          possibly_sensitive  \\\n",
       "3113                        ...                                         NaN   \n",
       "70                          ...                                         0.0   \n",
       "430                         ...                                         NaN   \n",
       "1382                        ...                                         NaN   \n",
       "4510                        ...                                         0.0   \n",
       "\n",
       "                                          quoted_status  quoted_status_id  \\\n",
       "3113                                                NaN               NaN   \n",
       "70                                                  NaN               NaN   \n",
       "430                                                 NaN               NaN   \n",
       "1382                                                NaN               NaN   \n",
       "4510  {'contributors': None, 'coordinates': None, 't...      6.242042e+17   \n",
       "\n",
       "      quoted_status_id_str  retweet_count retweeted  \\\n",
       "3113                   NaN              0     False   \n",
       "70                     NaN              0     False   \n",
       "430                    NaN              0     False   \n",
       "1382                   NaN              0     False   \n",
       "4510          6.242042e+17              0     False   \n",
       "\n",
       "                                                 source  \\\n",
       "3113  <a href=\"http://twitter.com\" rel=\"nofollow\">Tw...   \n",
       "70    <a href=\"http://instagram.com\" rel=\"nofollow\">...   \n",
       "430   <a href=\"http://engagor.com\" rel=\"nofollow\">En...   \n",
       "1382  <a href=\"http://twitter.com/download/android\" ...   \n",
       "4510  <a href=\"http://twitter.com\" rel=\"nofollow\">Tw...   \n",
       "\n",
       "                                                   text  truncated  \\\n",
       "3113  @mikecoulson48 @UtopianFireman @Jenny_Musings ...      False   \n",
       "70    #HappyBirthdayEmilyBett @emilybett :) Wishing ...      False   \n",
       "430           @umar_farouk7 Welcome back to #TeamRed :)      False   \n",
       "1382  @JhMarkotsis am driving up tomorrow if you sti...      False   \n",
       "4510  I second that! Well done :) https://t.co/PeTkj...      False   \n",
       "\n",
       "                                                   user  \n",
       "3113  {'time_zone': 'Casablanca', 'profile_backgroun...  \n",
       "70    {'time_zone': 'Madrid', 'profile_background_im...  \n",
       "430   {'time_zone': 'Pretoria', 'profile_background_...  \n",
       "1382  {'time_zone': 'Auckland', 'profile_background_...  \n",
       "4510  {'time_zone': 'Amsterdam', 'profile_background...  \n",
       "\n",
       "[5 rows x 28 columns]"
      ]
     },
     "execution_count": 6,
     "metadata": {},
     "output_type": "execute_result"
    }
   ],
   "source": [
    "df = pd.read_json(jfile, lines=True)  # line-delimited json file\n",
    "df.sample(5)"
   ]
  },
  {
   "cell_type": "code",
   "execution_count": 7,
   "metadata": {},
   "outputs": [
    {
     "data": {
      "text/plain": [
       "'Paris'"
      ]
     },
     "execution_count": 7,
     "metadata": {},
     "output_type": "execute_result"
    }
   ],
   "source": [
    "# 'user' column values are a dictionary; need to specify subkey\n",
    "df.loc[0, 'user']['time_zone']"
   ]
  },
  {
   "cell_type": "code",
   "execution_count": 8,
   "metadata": {},
   "outputs": [
    {
     "data": {
      "text/plain": [
       "295     @RachelEvans_28 RIGHT!!!!!! I literally was li...\n",
       "329     @literalwt LMAOOO SAME its so hot 😤😤 like loui...\n",
       "762     when u wake up at 4 AM and the suite life of Z...\n",
       "777     @77kaylee77 goodbye, don't forget that it was ...\n",
       "988     ACHI!!!! Im busy next week because of our exam...\n",
       "1350    if you wanna follow my personal is @thaiees !!...\n",
       "1655    lmaoo me and my mca team gettin HELLA money dm...\n",
       "1980    The foam inside some lady's bra can mob a rive...\n",
       "1982    Spring Fiesta 2015 \\n\\nMake Some Noise, Awuuuu...\n",
       "2065                                Enjoy the pics!!!! :D\n",
       "2149    @Alex_OllyM_NH me neither :) excited!!!!! 🎉🎉🎉 xxx\n",
       "2584    @lDreeriksenl  happy birthday with chocolate l...\n",
       "2619    Hhahahahaha!!!!!!!! Just blew upp the entire T...\n",
       "2896    @_sarah_mae omg you can't just tell this and d...\n",
       "3010    @nicagaray thank you Nic!!!!!!!!! :)) hang soo...\n",
       "3494        Bom dia a todos!!!! / Good morning all!!!! :)\n",
       "3783    @KimKardashian that was beeeeepin hilarious!!!...\n",
       "4008    Good morning all :-)\\n\\nIt's Friday!!!!!! 󾰀\\n\\...\n",
       "4154    @TheVampsBrad where were you standing? so cool...\n",
       "4504    My sisters are the best!!!! Best pre bday cele...\n",
       "4591    @machado_man4 @TashaShukla @CloydRivers and fr...\n",
       "4631    I WANT to create the FIRST #Bboying #Cardgame ...\n",
       "4653    Back to 80s?! A brand new #Commodore64 Program...\n",
       "4840    @scousebabe888 Nice Holiday Honey!!!!!!!!!!!!!...\n",
       "4964    @namcew make use of the masquerade mask!!!! Lo...\n",
       "Name: text, dtype: object"
      ]
     },
     "execution_count": 8,
     "metadata": {},
     "output_type": "execute_result"
    }
   ],
   "source": [
    "df[df.text.str.contains('!!!!')]['text']"
   ]
  },
  {
   "cell_type": "markdown",
   "metadata": {},
   "source": [
    "## Method 2: Data-mine live Tweets through API (Application Program Interface)\n",
    "Following \"The Code Way\" tutorial at http://blog.impiyush.com/2015/03/data-analysis-using-twitter-api-and.html"
   ]
  },
  {
   "cell_type": "code",
   "execution_count": 9,
   "metadata": {},
   "outputs": [],
   "source": [
    "# My \"Consumer Key\" and \"Consumer Secret\" strings: \n",
    "ckey = \"XXXXXXXXXXXXXXX\"\n",
    "csecret = \"XXXXXXXXXXXXXXXXXXXXXXXXXXXXXX\""
   ]
  },
  {
   "cell_type": "code",
   "execution_count": 10,
   "metadata": {},
   "outputs": [],
   "source": [
    "# Tweepy takes care of authentication for you and creates api object\n",
    "auth = tweepy.OAuthHandler(consumer_key=ckey, consumer_secret=csecret)\n",
    "api = tweepy.API(auth)"
   ]
  },
  {
   "cell_type": "code",
   "execution_count": 11,
   "metadata": {},
   "outputs": [
    {
     "data": {
      "text/plain": [
       "15"
      ]
     },
     "execution_count": 11,
     "metadata": {},
     "output_type": "execute_result"
    }
   ],
   "source": [
    "# Let's search for Oscars 2019\n",
    "result = api.search(q='%23Oscars2019')   # %23 is for #\n",
    "len(result)"
   ]
  },
  {
   "cell_type": "code",
   "execution_count": 12,
   "metadata": {},
   "outputs": [
    {
     "data": {
      "text/plain": [
       "Status(_api=<tweepy.api.API object at 0x0000026338689E80>, _json={'created_at': 'Tue Feb 19 22:44:59 +0000 2019', 'id': 1097990458930876416, 'id_str': '1097990458930876416', 'text': 'RT @SHOTOFYAGER: We’re doing an #Oscars ballot contest over at https://t.co/pNA4r4NSHt! Test that movie knowledge against other patrons &amp; w…', 'truncated': False, 'entities': {'hashtags': [{'text': 'Oscars', 'indices': [32, 39]}], 'symbols': [], 'user_mentions': [{'screen_name': 'SHOTOFYAGER', 'name': 'Scott Yager', 'id': 104665793, 'id_str': '104665793', 'indices': [3, 15]}], 'urls': [{'url': 'https://t.co/pNA4r4NSHt', 'expanded_url': 'http://Patreon.com/ChallengeMania', 'display_url': 'Patreon.com/ChallengeMania', 'indices': [63, 86]}]}, 'metadata': {'iso_language_code': 'en', 'result_type': 'recent'}, 'source': '<a href=\"http://twitter.com/download/iphone\" rel=\"nofollow\">Twitter for iPhone</a>', 'in_reply_to_status_id': None, 'in_reply_to_status_id_str': None, 'in_reply_to_user_id': None, 'in_reply_to_user_id_str': None, 'in_reply_to_screen_name': None, 'user': {'id': 972159615390699520, 'id_str': '972159615390699520', 'name': 'Challenge Mania', 'screen_name': 'ChaIIengeMania', 'location': 'Namibia', 'description': 'Unofficial Challenge Mania Podcast Fan Account Not affiliated with Scott, Derrick, or the show Opinions expressed here are not reflected onto Scott or D', 'url': 'https://t.co/NINyhTcNGw', 'entities': {'url': {'urls': [{'url': 'https://t.co/NINyhTcNGw', 'expanded_url': 'http://ChallengeMania.Shop', 'display_url': 'ChallengeMania.Shop', 'indices': [0, 23]}]}, 'description': {'urls': []}}, 'protected': False, 'followers_count': 557, 'friends_count': 3, 'listed_count': 0, 'created_at': 'Fri Mar 09 17:18:08 +0000 2018', 'favourites_count': 1131, 'utc_offset': None, 'time_zone': None, 'geo_enabled': False, 'verified': False, 'statuses_count': 1119, 'lang': 'en', 'contributors_enabled': False, 'is_translator': False, 'is_translation_enabled': False, 'profile_background_color': '000000', 'profile_background_image_url': 'http://abs.twimg.com/images/themes/theme1/bg.png', 'profile_background_image_url_https': 'https://abs.twimg.com/images/themes/theme1/bg.png', 'profile_background_tile': False, 'profile_image_url': 'http://pbs.twimg.com/profile_images/977590950653452288/pVeGuxY2_normal.jpg', 'profile_image_url_https': 'https://pbs.twimg.com/profile_images/977590950653452288/pVeGuxY2_normal.jpg', 'profile_banner_url': 'https://pbs.twimg.com/profile_banners/972159615390699520/1521910935', 'profile_link_color': 'FF691F', 'profile_sidebar_border_color': '000000', 'profile_sidebar_fill_color': '000000', 'profile_text_color': '000000', 'profile_use_background_image': False, 'has_extended_profile': True, 'default_profile': False, 'default_profile_image': False, 'following': None, 'follow_request_sent': None, 'notifications': None, 'translator_type': 'none'}, 'geo': None, 'coordinates': None, 'place': None, 'contributors': None, 'retweeted_status': {'created_at': 'Tue Feb 19 22:10:11 +0000 2019', 'id': 1097981699613437952, 'id_str': '1097981699613437952', 'text': 'We’re doing an #Oscars ballot contest over at https://t.co/pNA4r4NSHt! Test that movie knowledge against other patr… https://t.co/xEcETAyKcM', 'truncated': True, 'entities': {'hashtags': [{'text': 'Oscars', 'indices': [15, 22]}], 'symbols': [], 'user_mentions': [], 'urls': [{'url': 'https://t.co/pNA4r4NSHt', 'expanded_url': 'http://Patreon.com/ChallengeMania', 'display_url': 'Patreon.com/ChallengeMania', 'indices': [46, 69]}, {'url': 'https://t.co/xEcETAyKcM', 'expanded_url': 'https://twitter.com/i/web/status/1097981699613437952', 'display_url': 'twitter.com/i/web/status/1…', 'indices': [117, 140]}]}, 'metadata': {'iso_language_code': 'en', 'result_type': 'recent'}, 'source': '<a href=\"http://twitter.com/download/iphone\" rel=\"nofollow\">Twitter for iPhone</a>', 'in_reply_to_status_id': None, 'in_reply_to_status_id_str': None, 'in_reply_to_user_id': None, 'in_reply_to_user_id_str': None, 'in_reply_to_screen_name': None, 'user': {'id': 104665793, 'id_str': '104665793', 'name': 'Scott Yager', 'screen_name': 'SHOTOFYAGER', 'location': 'New York, USA', 'description': 'Host of the #ChallengeMania Podcast w/ @DerrickMTV🎧 https://t.co/NINyhTcNGw🛍Our Exclusive (limited/100) Enamel Pin Goes On Sale 12pm Wed 2/20 at https://t.co/Lj2YslrhTK', 'url': 'https://t.co/Q34YjQQbzs', 'entities': {'url': {'urls': [{'url': 'https://t.co/Q34YjQQbzs', 'expanded_url': 'http://ChallengeManiaPodcast.com', 'display_url': 'ChallengeManiaPodcast.com', 'indices': [0, 23]}]}, 'description': {'urls': [{'url': 'https://t.co/NINyhTcNGw', 'expanded_url': 'http://ChallengeMania.Shop', 'display_url': 'ChallengeMania.Shop', 'indices': [52, 75]}, {'url': 'https://t.co/Lj2YslrhTK', 'expanded_url': 'http://ZombieSailor.com', 'display_url': 'ZombieSailor.com', 'indices': [145, 168]}]}}, 'protected': False, 'followers_count': 8599, 'friends_count': 1193, 'listed_count': 44, 'created_at': 'Thu Jan 14 01:07:18 +0000 2010', 'favourites_count': 13484, 'utc_offset': None, 'time_zone': None, 'geo_enabled': True, 'verified': False, 'statuses_count': 16347, 'lang': 'en', 'contributors_enabled': False, 'is_translator': False, 'is_translation_enabled': False, 'profile_background_color': 'C0DEED', 'profile_background_image_url': 'http://abs.twimg.com/images/themes/theme1/bg.png', 'profile_background_image_url_https': 'https://abs.twimg.com/images/themes/theme1/bg.png', 'profile_background_tile': True, 'profile_image_url': 'http://pbs.twimg.com/profile_images/1071997878153986049/vAFquJrF_normal.jpg', 'profile_image_url_https': 'https://pbs.twimg.com/profile_images/1071997878153986049/vAFquJrF_normal.jpg', 'profile_banner_url': 'https://pbs.twimg.com/profile_banners/104665793/1548657178', 'profile_link_color': '0084B4', 'profile_sidebar_border_color': 'C0DEED', 'profile_sidebar_fill_color': 'DDEEF6', 'profile_text_color': '333333', 'profile_use_background_image': True, 'has_extended_profile': True, 'default_profile': False, 'default_profile_image': False, 'following': None, 'follow_request_sent': None, 'notifications': None, 'translator_type': 'none'}, 'geo': None, 'coordinates': None, 'place': None, 'contributors': None, 'is_quote_status': False, 'retweet_count': 1, 'favorite_count': 2, 'favorited': False, 'retweeted': False, 'possibly_sensitive': False, 'lang': 'en'}, 'is_quote_status': False, 'retweet_count': 1, 'favorite_count': 0, 'favorited': False, 'retweeted': False, 'possibly_sensitive': False, 'lang': 'en'}, created_at=datetime.datetime(2019, 2, 19, 22, 44, 59), id=1097990458930876416, id_str='1097990458930876416', text='RT @SHOTOFYAGER: We’re doing an #Oscars ballot contest over at https://t.co/pNA4r4NSHt! Test that movie knowledge against other patrons &amp; w…', truncated=False, entities={'hashtags': [{'text': 'Oscars', 'indices': [32, 39]}], 'symbols': [], 'user_mentions': [{'screen_name': 'SHOTOFYAGER', 'name': 'Scott Yager', 'id': 104665793, 'id_str': '104665793', 'indices': [3, 15]}], 'urls': [{'url': 'https://t.co/pNA4r4NSHt', 'expanded_url': 'http://Patreon.com/ChallengeMania', 'display_url': 'Patreon.com/ChallengeMania', 'indices': [63, 86]}]}, metadata={'iso_language_code': 'en', 'result_type': 'recent'}, source='Twitter for iPhone', source_url='http://twitter.com/download/iphone', in_reply_to_status_id=None, in_reply_to_status_id_str=None, in_reply_to_user_id=None, in_reply_to_user_id_str=None, in_reply_to_screen_name=None, author=User(_api=<tweepy.api.API object at 0x0000026338689E80>, _json={'id': 972159615390699520, 'id_str': '972159615390699520', 'name': 'Challenge Mania', 'screen_name': 'ChaIIengeMania', 'location': 'Namibia', 'description': 'Unofficial Challenge Mania Podcast Fan Account Not affiliated with Scott, Derrick, or the show Opinions expressed here are not reflected onto Scott or D', 'url': 'https://t.co/NINyhTcNGw', 'entities': {'url': {'urls': [{'url': 'https://t.co/NINyhTcNGw', 'expanded_url': 'http://ChallengeMania.Shop', 'display_url': 'ChallengeMania.Shop', 'indices': [0, 23]}]}, 'description': {'urls': []}}, 'protected': False, 'followers_count': 557, 'friends_count': 3, 'listed_count': 0, 'created_at': 'Fri Mar 09 17:18:08 +0000 2018', 'favourites_count': 1131, 'utc_offset': None, 'time_zone': None, 'geo_enabled': False, 'verified': False, 'statuses_count': 1119, 'lang': 'en', 'contributors_enabled': False, 'is_translator': False, 'is_translation_enabled': False, 'profile_background_color': '000000', 'profile_background_image_url': 'http://abs.twimg.com/images/themes/theme1/bg.png', 'profile_background_image_url_https': 'https://abs.twimg.com/images/themes/theme1/bg.png', 'profile_background_tile': False, 'profile_image_url': 'http://pbs.twimg.com/profile_images/977590950653452288/pVeGuxY2_normal.jpg', 'profile_image_url_https': 'https://pbs.twimg.com/profile_images/977590950653452288/pVeGuxY2_normal.jpg', 'profile_banner_url': 'https://pbs.twimg.com/profile_banners/972159615390699520/1521910935', 'profile_link_color': 'FF691F', 'profile_sidebar_border_color': '000000', 'profile_sidebar_fill_color': '000000', 'profile_text_color': '000000', 'profile_use_background_image': False, 'has_extended_profile': True, 'default_profile': False, 'default_profile_image': False, 'following': None, 'follow_request_sent': None, 'notifications': None, 'translator_type': 'none'}, id=972159615390699520, id_str='972159615390699520', name='Challenge Mania', screen_name='ChaIIengeMania', location='Namibia', description='Unofficial Challenge Mania Podcast Fan Account Not affiliated with Scott, Derrick, or the show Opinions expressed here are not reflected onto Scott or D', url='https://t.co/NINyhTcNGw', entities={'url': {'urls': [{'url': 'https://t.co/NINyhTcNGw', 'expanded_url': 'http://ChallengeMania.Shop', 'display_url': 'ChallengeMania.Shop', 'indices': [0, 23]}]}, 'description': {'urls': []}}, protected=False, followers_count=557, friends_count=3, listed_count=0, created_at=datetime.datetime(2018, 3, 9, 17, 18, 8), favourites_count=1131, utc_offset=None, time_zone=None, geo_enabled=False, verified=False, statuses_count=1119, lang='en', contributors_enabled=False, is_translator=False, is_translation_enabled=False, profile_background_color='000000', profile_background_image_url='http://abs.twimg.com/images/themes/theme1/bg.png', profile_background_image_url_https='https://abs.twimg.com/images/themes/theme1/bg.png', profile_background_tile=False, profile_image_url='http://pbs.twimg.com/profile_images/977590950653452288/pVeGuxY2_normal.jpg', profile_image_url_https='https://pbs.twimg.com/profile_images/977590950653452288/pVeGuxY2_normal.jpg', profile_banner_url='https://pbs.twimg.com/profile_banners/972159615390699520/1521910935', profile_link_color='FF691F', profile_sidebar_border_color='000000', profile_sidebar_fill_color='000000', profile_text_color='000000', profile_use_background_image=False, has_extended_profile=True, default_profile=False, default_profile_image=False, following=False, follow_request_sent=None, notifications=None, translator_type='none'), user=User(_api=<tweepy.api.API object at 0x0000026338689E80>, _json={'id': 972159615390699520, 'id_str': '972159615390699520', 'name': 'Challenge Mania', 'screen_name': 'ChaIIengeMania', 'location': 'Namibia', 'description': 'Unofficial Challenge Mania Podcast Fan Account Not affiliated with Scott, Derrick, or the show Opinions expressed here are not reflected onto Scott or D', 'url': 'https://t.co/NINyhTcNGw', 'entities': {'url': {'urls': [{'url': 'https://t.co/NINyhTcNGw', 'expanded_url': 'http://ChallengeMania.Shop', 'display_url': 'ChallengeMania.Shop', 'indices': [0, 23]}]}, 'description': {'urls': []}}, 'protected': False, 'followers_count': 557, 'friends_count': 3, 'listed_count': 0, 'created_at': 'Fri Mar 09 17:18:08 +0000 2018', 'favourites_count': 1131, 'utc_offset': None, 'time_zone': None, 'geo_enabled': False, 'verified': False, 'statuses_count': 1119, 'lang': 'en', 'contributors_enabled': False, 'is_translator': False, 'is_translation_enabled': False, 'profile_background_color': '000000', 'profile_background_image_url': 'http://abs.twimg.com/images/themes/theme1/bg.png', 'profile_background_image_url_https': 'https://abs.twimg.com/images/themes/theme1/bg.png', 'profile_background_tile': False, 'profile_image_url': 'http://pbs.twimg.com/profile_images/977590950653452288/pVeGuxY2_normal.jpg', 'profile_image_url_https': 'https://pbs.twimg.com/profile_images/977590950653452288/pVeGuxY2_normal.jpg', 'profile_banner_url': 'https://pbs.twimg.com/profile_banners/972159615390699520/1521910935', 'profile_link_color': 'FF691F', 'profile_sidebar_border_color': '000000', 'profile_sidebar_fill_color': '000000', 'profile_text_color': '000000', 'profile_use_background_image': False, 'has_extended_profile': True, 'default_profile': False, 'default_profile_image': False, 'following': None, 'follow_request_sent': None, 'notifications': None, 'translator_type': 'none'}, id=972159615390699520, id_str='972159615390699520', name='Challenge Mania', screen_name='ChaIIengeMania', location='Namibia', description='Unofficial Challenge Mania Podcast Fan Account Not affiliated with Scott, Derrick, or the show Opinions expressed here are not reflected onto Scott or D', url='https://t.co/NINyhTcNGw', entities={'url': {'urls': [{'url': 'https://t.co/NINyhTcNGw', 'expanded_url': 'http://ChallengeMania.Shop', 'display_url': 'ChallengeMania.Shop', 'indices': [0, 23]}]}, 'description': {'urls': []}}, protected=False, followers_count=557, friends_count=3, listed_count=0, created_at=datetime.datetime(2018, 3, 9, 17, 18, 8), favourites_count=1131, utc_offset=None, time_zone=None, geo_enabled=False, verified=False, statuses_count=1119, lang='en', contributors_enabled=False, is_translator=False, is_translation_enabled=False, profile_background_color='000000', profile_background_image_url='http://abs.twimg.com/images/themes/theme1/bg.png', profile_background_image_url_https='https://abs.twimg.com/images/themes/theme1/bg.png', profile_background_tile=False, profile_image_url='http://pbs.twimg.com/profile_images/977590950653452288/pVeGuxY2_normal.jpg', profile_image_url_https='https://pbs.twimg.com/profile_images/977590950653452288/pVeGuxY2_normal.jpg', profile_banner_url='https://pbs.twimg.com/profile_banners/972159615390699520/1521910935', profile_link_color='FF691F', profile_sidebar_border_color='000000', profile_sidebar_fill_color='000000', profile_text_color='000000', profile_use_background_image=False, has_extended_profile=True, default_profile=False, default_profile_image=False, following=False, follow_request_sent=None, notifications=None, translator_type='none'), geo=None, coordinates=None, place=None, contributors=None, retweeted_status=Status(_api=<tweepy.api.API object at 0x0000026338689E80>, _json={'created_at': 'Tue Feb 19 22:10:11 +0000 2019', 'id': 1097981699613437952, 'id_str': '1097981699613437952', 'text': 'We’re doing an #Oscars ballot contest over at https://t.co/pNA4r4NSHt! Test that movie knowledge against other patr… https://t.co/xEcETAyKcM', 'truncated': True, 'entities': {'hashtags': [{'text': 'Oscars', 'indices': [15, 22]}], 'symbols': [], 'user_mentions': [], 'urls': [{'url': 'https://t.co/pNA4r4NSHt', 'expanded_url': 'http://Patreon.com/ChallengeMania', 'display_url': 'Patreon.com/ChallengeMania', 'indices': [46, 69]}, {'url': 'https://t.co/xEcETAyKcM', 'expanded_url': 'https://twitter.com/i/web/status/1097981699613437952', 'display_url': 'twitter.com/i/web/status/1…', 'indices': [117, 140]}]}, 'metadata': {'iso_language_code': 'en', 'result_type': 'recent'}, 'source': '<a href=\"http://twitter.com/download/iphone\" rel=\"nofollow\">Twitter for iPhone</a>', 'in_reply_to_status_id': None, 'in_reply_to_status_id_str': None, 'in_reply_to_user_id': None, 'in_reply_to_user_id_str': None, 'in_reply_to_screen_name': None, 'user': {'id': 104665793, 'id_str': '104665793', 'name': 'Scott Yager', 'screen_name': 'SHOTOFYAGER', 'location': 'New York, USA', 'description': 'Host of the #ChallengeMania Podcast w/ @DerrickMTV🎧 https://t.co/NINyhTcNGw🛍Our Exclusive (limited/100) Enamel Pin Goes On Sale 12pm Wed 2/20 at https://t.co/Lj2YslrhTK', 'url': 'https://t.co/Q34YjQQbzs', 'entities': {'url': {'urls': [{'url': 'https://t.co/Q34YjQQbzs', 'expanded_url': 'http://ChallengeManiaPodcast.com', 'display_url': 'ChallengeManiaPodcast.com', 'indices': [0, 23]}]}, 'description': {'urls': [{'url': 'https://t.co/NINyhTcNGw', 'expanded_url': 'http://ChallengeMania.Shop', 'display_url': 'ChallengeMania.Shop', 'indices': [52, 75]}, {'url': 'https://t.co/Lj2YslrhTK', 'expanded_url': 'http://ZombieSailor.com', 'display_url': 'ZombieSailor.com', 'indices': [145, 168]}]}}, 'protected': False, 'followers_count': 8599, 'friends_count': 1193, 'listed_count': 44, 'created_at': 'Thu Jan 14 01:07:18 +0000 2010', 'favourites_count': 13484, 'utc_offset': None, 'time_zone': None, 'geo_enabled': True, 'verified': False, 'statuses_count': 16347, 'lang': 'en', 'contributors_enabled': False, 'is_translator': False, 'is_translation_enabled': False, 'profile_background_color': 'C0DEED', 'profile_background_image_url': 'http://abs.twimg.com/images/themes/theme1/bg.png', 'profile_background_image_url_https': 'https://abs.twimg.com/images/themes/theme1/bg.png', 'profile_background_tile': True, 'profile_image_url': 'http://pbs.twimg.com/profile_images/1071997878153986049/vAFquJrF_normal.jpg', 'profile_image_url_https': 'https://pbs.twimg.com/profile_images/1071997878153986049/vAFquJrF_normal.jpg', 'profile_banner_url': 'https://pbs.twimg.com/profile_banners/104665793/1548657178', 'profile_link_color': '0084B4', 'profile_sidebar_border_color': 'C0DEED', 'profile_sidebar_fill_color': 'DDEEF6', 'profile_text_color': '333333', 'profile_use_background_image': True, 'has_extended_profile': True, 'default_profile': False, 'default_profile_image': False, 'following': None, 'follow_request_sent': None, 'notifications': None, 'translator_type': 'none'}, 'geo': None, 'coordinates': None, 'place': None, 'contributors': None, 'is_quote_status': False, 'retweet_count': 1, 'favorite_count': 2, 'favorited': False, 'retweeted': False, 'possibly_sensitive': False, 'lang': 'en'}, created_at=datetime.datetime(2019, 2, 19, 22, 10, 11), id=1097981699613437952, id_str='1097981699613437952', text='We’re doing an #Oscars ballot contest over at https://t.co/pNA4r4NSHt! Test that movie knowledge against other patr… https://t.co/xEcETAyKcM', truncated=True, entities={'hashtags': [{'text': 'Oscars', 'indices': [15, 22]}], 'symbols': [], 'user_mentions': [], 'urls': [{'url': 'https://t.co/pNA4r4NSHt', 'expanded_url': 'http://Patreon.com/ChallengeMania', 'display_url': 'Patreon.com/ChallengeMania', 'indices': [46, 69]}, {'url': 'https://t.co/xEcETAyKcM', 'expanded_url': 'https://twitter.com/i/web/status/1097981699613437952', 'display_url': 'twitter.com/i/web/status/1…', 'indices': [117, 140]}]}, metadata={'iso_language_code': 'en', 'result_type': 'recent'}, source='Twitter for iPhone', source_url='http://twitter.com/download/iphone', in_reply_to_status_id=None, in_reply_to_status_id_str=None, in_reply_to_user_id=None, in_reply_to_user_id_str=None, in_reply_to_screen_name=None, author=User(_api=<tweepy.api.API object at 0x0000026338689E80>, _json={'id': 104665793, 'id_str': '104665793', 'name': 'Scott Yager', 'screen_name': 'SHOTOFYAGER', 'location': 'New York, USA', 'description': 'Host of the #ChallengeMania Podcast w/ @DerrickMTV🎧 https://t.co/NINyhTcNGw🛍Our Exclusive (limited/100) Enamel Pin Goes On Sale 12pm Wed 2/20 at https://t.co/Lj2YslrhTK', 'url': 'https://t.co/Q34YjQQbzs', 'entities': {'url': {'urls': [{'url': 'https://t.co/Q34YjQQbzs', 'expanded_url': 'http://ChallengeManiaPodcast.com', 'display_url': 'ChallengeManiaPodcast.com', 'indices': [0, 23]}]}, 'description': {'urls': [{'url': 'https://t.co/NINyhTcNGw', 'expanded_url': 'http://ChallengeMania.Shop', 'display_url': 'ChallengeMania.Shop', 'indices': [52, 75]}, {'url': 'https://t.co/Lj2YslrhTK', 'expanded_url': 'http://ZombieSailor.com', 'display_url': 'ZombieSailor.com', 'indices': [145, 168]}]}}, 'protected': False, 'followers_count': 8599, 'friends_count': 1193, 'listed_count': 44, 'created_at': 'Thu Jan 14 01:07:18 +0000 2010', 'favourites_count': 13484, 'utc_offset': None, 'time_zone': None, 'geo_enabled': True, 'verified': False, 'statuses_count': 16347, 'lang': 'en', 'contributors_enabled': False, 'is_translator': False, 'is_translation_enabled': False, 'profile_background_color': 'C0DEED', 'profile_background_image_url': 'http://abs.twimg.com/images/themes/theme1/bg.png', 'profile_background_image_url_https': 'https://abs.twimg.com/images/themes/theme1/bg.png', 'profile_background_tile': True, 'profile_image_url': 'http://pbs.twimg.com/profile_images/1071997878153986049/vAFquJrF_normal.jpg', 'profile_image_url_https': 'https://pbs.twimg.com/profile_images/1071997878153986049/vAFquJrF_normal.jpg', 'profile_banner_url': 'https://pbs.twimg.com/profile_banners/104665793/1548657178', 'profile_link_color': '0084B4', 'profile_sidebar_border_color': 'C0DEED', 'profile_sidebar_fill_color': 'DDEEF6', 'profile_text_color': '333333', 'profile_use_background_image': True, 'has_extended_profile': True, 'default_profile': False, 'default_profile_image': False, 'following': None, 'follow_request_sent': None, 'notifications': None, 'translator_type': 'none'}, id=104665793, id_str='104665793', name='Scott Yager', screen_name='SHOTOFYAGER', location='New York, USA', description='Host of the #ChallengeMania Podcast w/ @DerrickMTV🎧 https://t.co/NINyhTcNGw🛍Our Exclusive (limited/100) Enamel Pin Goes On Sale 12pm Wed 2/20 at https://t.co/Lj2YslrhTK', url='https://t.co/Q34YjQQbzs', entities={'url': {'urls': [{'url': 'https://t.co/Q34YjQQbzs', 'expanded_url': 'http://ChallengeManiaPodcast.com', 'display_url': 'ChallengeManiaPodcast.com', 'indices': [0, 23]}]}, 'description': {'urls': [{'url': 'https://t.co/NINyhTcNGw', 'expanded_url': 'http://ChallengeMania.Shop', 'display_url': 'ChallengeMania.Shop', 'indices': [52, 75]}, {'url': 'https://t.co/Lj2YslrhTK', 'expanded_url': 'http://ZombieSailor.com', 'display_url': 'ZombieSailor.com', 'indices': [145, 168]}]}}, protected=False, followers_count=8599, friends_count=1193, listed_count=44, created_at=datetime.datetime(2010, 1, 14, 1, 7, 18), favourites_count=13484, utc_offset=None, time_zone=None, geo_enabled=True, verified=False, statuses_count=16347, lang='en', contributors_enabled=False, is_translator=False, is_translation_enabled=False, profile_background_color='C0DEED', profile_background_image_url='http://abs.twimg.com/images/themes/theme1/bg.png', profile_background_image_url_https='https://abs.twimg.com/images/themes/theme1/bg.png', profile_background_tile=True, profile_image_url='http://pbs.twimg.com/profile_images/1071997878153986049/vAFquJrF_normal.jpg', profile_image_url_https='https://pbs.twimg.com/profile_images/1071997878153986049/vAFquJrF_normal.jpg', profile_banner_url='https://pbs.twimg.com/profile_banners/104665793/1548657178', profile_link_color='0084B4', profile_sidebar_border_color='C0DEED', profile_sidebar_fill_color='DDEEF6', profile_text_color='333333', profile_use_background_image=True, has_extended_profile=True, default_profile=False, default_profile_image=False, following=False, follow_request_sent=None, notifications=None, translator_type='none'), user=User(_api=<tweepy.api.API object at 0x0000026338689E80>, _json={'id': 104665793, 'id_str': '104665793', 'name': 'Scott Yager', 'screen_name': 'SHOTOFYAGER', 'location': 'New York, USA', 'description': 'Host of the #ChallengeMania Podcast w/ @DerrickMTV🎧 https://t.co/NINyhTcNGw🛍Our Exclusive (limited/100) Enamel Pin Goes On Sale 12pm Wed 2/20 at https://t.co/Lj2YslrhTK', 'url': 'https://t.co/Q34YjQQbzs', 'entities': {'url': {'urls': [{'url': 'https://t.co/Q34YjQQbzs', 'expanded_url': 'http://ChallengeManiaPodcast.com', 'display_url': 'ChallengeManiaPodcast.com', 'indices': [0, 23]}]}, 'description': {'urls': [{'url': 'https://t.co/NINyhTcNGw', 'expanded_url': 'http://ChallengeMania.Shop', 'display_url': 'ChallengeMania.Shop', 'indices': [52, 75]}, {'url': 'https://t.co/Lj2YslrhTK', 'expanded_url': 'http://ZombieSailor.com', 'display_url': 'ZombieSailor.com', 'indices': [145, 168]}]}}, 'protected': False, 'followers_count': 8599, 'friends_count': 1193, 'listed_count': 44, 'created_at': 'Thu Jan 14 01:07:18 +0000 2010', 'favourites_count': 13484, 'utc_offset': None, 'time_zone': None, 'geo_enabled': True, 'verified': False, 'statuses_count': 16347, 'lang': 'en', 'contributors_enabled': False, 'is_translator': False, 'is_translation_enabled': False, 'profile_background_color': 'C0DEED', 'profile_background_image_url': 'http://abs.twimg.com/images/themes/theme1/bg.png', 'profile_background_image_url_https': 'https://abs.twimg.com/images/themes/theme1/bg.png', 'profile_background_tile': True, 'profile_image_url': 'http://pbs.twimg.com/profile_images/1071997878153986049/vAFquJrF_normal.jpg', 'profile_image_url_https': 'https://pbs.twimg.com/profile_images/1071997878153986049/vAFquJrF_normal.jpg', 'profile_banner_url': 'https://pbs.twimg.com/profile_banners/104665793/1548657178', 'profile_link_color': '0084B4', 'profile_sidebar_border_color': 'C0DEED', 'profile_sidebar_fill_color': 'DDEEF6', 'profile_text_color': '333333', 'profile_use_background_image': True, 'has_extended_profile': True, 'default_profile': False, 'default_profile_image': False, 'following': None, 'follow_request_sent': None, 'notifications': None, 'translator_type': 'none'}, id=104665793, id_str='104665793', name='Scott Yager', screen_name='SHOTOFYAGER', location='New York, USA', description='Host of the #ChallengeMania Podcast w/ @DerrickMTV🎧 https://t.co/NINyhTcNGw🛍Our Exclusive (limited/100) Enamel Pin Goes On Sale 12pm Wed 2/20 at https://t.co/Lj2YslrhTK', url='https://t.co/Q34YjQQbzs', entities={'url': {'urls': [{'url': 'https://t.co/Q34YjQQbzs', 'expanded_url': 'http://ChallengeManiaPodcast.com', 'display_url': 'ChallengeManiaPodcast.com', 'indices': [0, 23]}]}, 'description': {'urls': [{'url': 'https://t.co/NINyhTcNGw', 'expanded_url': 'http://ChallengeMania.Shop', 'display_url': 'ChallengeMania.Shop', 'indices': [52, 75]}, {'url': 'https://t.co/Lj2YslrhTK', 'expanded_url': 'http://ZombieSailor.com', 'display_url': 'ZombieSailor.com', 'indices': [145, 168]}]}}, protected=False, followers_count=8599, friends_count=1193, listed_count=44, created_at=datetime.datetime(2010, 1, 14, 1, 7, 18), favourites_count=13484, utc_offset=None, time_zone=None, geo_enabled=True, verified=False, statuses_count=16347, lang='en', contributors_enabled=False, is_translator=False, is_translation_enabled=False, profile_background_color='C0DEED', profile_background_image_url='http://abs.twimg.com/images/themes/theme1/bg.png', profile_background_image_url_https='https://abs.twimg.com/images/themes/theme1/bg.png', profile_background_tile=True, profile_image_url='http://pbs.twimg.com/profile_images/1071997878153986049/vAFquJrF_normal.jpg', profile_image_url_https='https://pbs.twimg.com/profile_images/1071997878153986049/vAFquJrF_normal.jpg', profile_banner_url='https://pbs.twimg.com/profile_banners/104665793/1548657178', profile_link_color='0084B4', profile_sidebar_border_color='C0DEED', profile_sidebar_fill_color='DDEEF6', profile_text_color='333333', profile_use_background_image=True, has_extended_profile=True, default_profile=False, default_profile_image=False, following=False, follow_request_sent=None, notifications=None, translator_type='none'), geo=None, coordinates=None, place=None, contributors=None, is_quote_status=False, retweet_count=1, favorite_count=2, favorited=False, retweeted=False, possibly_sensitive=False, lang='en'), is_quote_status=False, retweet_count=1, favorite_count=0, favorited=False, retweeted=False, possibly_sensitive=False, lang='en')"
      ]
     },
     "execution_count": 12,
     "metadata": {},
     "output_type": "execute_result"
    }
   ],
   "source": [
    "result[0]"
   ]
  },
  {
   "cell_type": "code",
   "execution_count": 13,
   "metadata": {},
   "outputs": [
    {
     "data": {
      "text/plain": [
       "tweepy.models.Status"
      ]
     },
     "execution_count": 13,
     "metadata": {},
     "output_type": "execute_result"
    }
   ],
   "source": [
    "type(result[0])"
   ]
  },
  {
   "cell_type": "code",
   "execution_count": 14,
   "metadata": {},
   "outputs": [
    {
     "name": "stdout",
     "output_type": "stream",
     "text": [
      "Pretty printing has been turned OFF\n"
     ]
    },
    {
     "data": {
      "text/plain": [
       "['__class__', '__delattr__', '__dict__', '__dir__', '__doc__', '__eq__', '__format__', '__ge__', '__getattribute__', '__getstate__', '__gt__', '__hash__', '__init__', '__init_subclass__', '__le__', '__lt__', '__module__', '__ne__', '__new__', '__reduce__', '__reduce_ex__', '__repr__', '__setattr__', '__sizeof__', '__str__', '__subclasshook__', '__weakref__', '_api', '_json', 'author', 'contributors', 'coordinates', 'created_at', 'destroy', 'entities', 'favorite', 'favorite_count', 'favorited', 'geo', 'id', 'id_str', 'in_reply_to_screen_name', 'in_reply_to_status_id', 'in_reply_to_status_id_str', 'in_reply_to_user_id', 'in_reply_to_user_id_str', 'is_quote_status', 'lang', 'metadata', 'parse', 'parse_list', 'place', 'possibly_sensitive', 'retweet', 'retweet_count', 'retweeted', 'retweeted_status', 'retweets', 'source', 'source_url', 'text', 'truncated', 'user']"
      ]
     },
     "execution_count": 14,
     "metadata": {},
     "output_type": "execute_result"
    }
   ],
   "source": [
    "%pprint\n",
    "dir(result[0])"
   ]
  },
  {
   "cell_type": "code",
   "execution_count": 15,
   "metadata": {},
   "outputs": [
    {
     "data": {
      "text/plain": [
       "'RT @SHOTOFYAGER: We’re doing an #Oscars ballot contest over at https://t.co/pNA4r4NSHt! Test that movie knowledge against other patrons &amp; w…'"
      ]
     },
     "execution_count": 15,
     "metadata": {},
     "output_type": "execute_result"
    }
   ],
   "source": [
    "result[0].text"
   ]
  },
  {
   "cell_type": "code",
   "execution_count": 16,
   "metadata": {},
   "outputs": [
    {
     "data": {
      "text/plain": [
       "972159615390699520"
      ]
     },
     "execution_count": 16,
     "metadata": {},
     "output_type": "execute_result"
    }
   ],
   "source": [
    "result[0].user.id"
   ]
  },
  {
   "cell_type": "code",
   "execution_count": 17,
   "metadata": {},
   "outputs": [
    {
     "data": {
      "text/html": [
       "<div>\n",
       "<style scoped>\n",
       "    .dataframe tbody tr th:only-of-type {\n",
       "        vertical-align: middle;\n",
       "    }\n",
       "\n",
       "    .dataframe tbody tr th {\n",
       "        vertical-align: top;\n",
       "    }\n",
       "\n",
       "    .dataframe thead th {\n",
       "        text-align: right;\n",
       "    }\n",
       "</style>\n",
       "<table border=\"1\" class=\"dataframe\">\n",
       "  <thead>\n",
       "    <tr style=\"text-align: right;\">\n",
       "      <th></th>\n",
       "      <th>tweetID</th>\n",
       "      <th>userID</th>\n",
       "      <th>tweetText</th>\n",
       "    </tr>\n",
       "  </thead>\n",
       "  <tbody>\n",
       "    <tr>\n",
       "      <th>0</th>\n",
       "      <td>1097990458930876416</td>\n",
       "      <td>972159615390699520</td>\n",
       "      <td>RT @SHOTOFYAGER: We’re doing an #Oscars ballot...</td>\n",
       "    </tr>\n",
       "    <tr>\n",
       "      <th>1</th>\n",
       "      <td>1097990417969278976</td>\n",
       "      <td>426649610</td>\n",
       "      <td>The second nominee is Yorgos Lanthimos for his...</td>\n",
       "    </tr>\n",
       "    <tr>\n",
       "      <th>2</th>\n",
       "      <td>1097990366136016903</td>\n",
       "      <td>864899138</td>\n",
       "      <td>RT @TALCvids: .@adamlambert to Perform With @Q...</td>\n",
       "    </tr>\n",
       "    <tr>\n",
       "      <th>3</th>\n",
       "      <td>1097990358259109889</td>\n",
       "      <td>59583229</td>\n",
       "      <td>RT @RacingPostTV: With the #Oscars2019 approac...</td>\n",
       "    </tr>\n",
       "    <tr>\n",
       "      <th>4</th>\n",
       "      <td>1097990340135567362</td>\n",
       "      <td>83212449</td>\n",
       "      <td>RT @PastranaTweet: OSCAR 2019: ¿Cuál Ganará el...</td>\n",
       "    </tr>\n",
       "    <tr>\n",
       "      <th>5</th>\n",
       "      <td>1097990323907842050</td>\n",
       "      <td>168479250</td>\n",
       "      <td>RT @TdbLGTBI: Tras el éxito de la película #Bo...</td>\n",
       "    </tr>\n",
       "    <tr>\n",
       "      <th>6</th>\n",
       "      <td>1097990280018567170</td>\n",
       "      <td>83212449</td>\n",
       "      <td>RT @PastranaTweet: OSCAR 2019: ¿Cuál Ganará el...</td>\n",
       "    </tr>\n",
       "    <tr>\n",
       "      <th>7</th>\n",
       "      <td>1097990270942093313</td>\n",
       "      <td>949898869</td>\n",
       "      <td>Who are you all predicting for BEST ORIGINAL S...</td>\n",
       "    </tr>\n",
       "    <tr>\n",
       "      <th>8</th>\n",
       "      <td>1097990264315133953</td>\n",
       "      <td>864899138</td>\n",
       "      <td>RT @14gelly: #Oscars2019 \\n@QueenWillRock and ...</td>\n",
       "    </tr>\n",
       "    <tr>\n",
       "      <th>9</th>\n",
       "      <td>1097990223613648896</td>\n",
       "      <td>9763482</td>\n",
       "      <td>Helen Mirren, Pharrell Williams, Michael Keato...</td>\n",
       "    </tr>\n",
       "    <tr>\n",
       "      <th>10</th>\n",
       "      <td>1097990221923270656</td>\n",
       "      <td>785272459394215936</td>\n",
       "      <td>📢 It's that time again for this year #Oscars a...</td>\n",
       "    </tr>\n",
       "    <tr>\n",
       "      <th>11</th>\n",
       "      <td>1097990154034335744</td>\n",
       "      <td>909911528580816896</td>\n",
       "      <td>RT @QueenWillRock: Queen + @adamlambert will R...</td>\n",
       "    </tr>\n",
       "    <tr>\n",
       "      <th>12</th>\n",
       "      <td>1097989991026905088</td>\n",
       "      <td>4397525416</td>\n",
       "      <td>RT @Angel_nDisguise: browncharl's IG post: \"Th...</td>\n",
       "    </tr>\n",
       "    <tr>\n",
       "      <th>13</th>\n",
       "      <td>1097989952481251328</td>\n",
       "      <td>211669834</td>\n",
       "      <td>RT @GabyFaure: #Oscars2019 por @ollyog https:/...</td>\n",
       "    </tr>\n",
       "    <tr>\n",
       "      <th>14</th>\n",
       "      <td>1097989857811619840</td>\n",
       "      <td>739376762241568768</td>\n",
       "      <td>RT @QueenWillRock: Queen + @adamlambert will R...</td>\n",
       "    </tr>\n",
       "  </tbody>\n",
       "</table>\n",
       "</div>"
      ],
      "text/plain": [
       "                tweetID              userID  \\\n",
       "0   1097990458930876416  972159615390699520   \n",
       "1   1097990417969278976           426649610   \n",
       "2   1097990366136016903           864899138   \n",
       "3   1097990358259109889            59583229   \n",
       "4   1097990340135567362            83212449   \n",
       "5   1097990323907842050           168479250   \n",
       "6   1097990280018567170            83212449   \n",
       "7   1097990270942093313           949898869   \n",
       "8   1097990264315133953           864899138   \n",
       "9   1097990223613648896             9763482   \n",
       "10  1097990221923270656  785272459394215936   \n",
       "11  1097990154034335744  909911528580816896   \n",
       "12  1097989991026905088          4397525416   \n",
       "13  1097989952481251328           211669834   \n",
       "14  1097989857811619840  739376762241568768   \n",
       "\n",
       "                                            tweetText  \n",
       "0   RT @SHOTOFYAGER: We’re doing an #Oscars ballot...  \n",
       "1   The second nominee is Yorgos Lanthimos for his...  \n",
       "2   RT @TALCvids: .@adamlambert to Perform With @Q...  \n",
       "3   RT @RacingPostTV: With the #Oscars2019 approac...  \n",
       "4   RT @PastranaTweet: OSCAR 2019: ¿Cuál Ganará el...  \n",
       "5   RT @TdbLGTBI: Tras el éxito de la película #Bo...  \n",
       "6   RT @PastranaTweet: OSCAR 2019: ¿Cuál Ganará el...  \n",
       "7   Who are you all predicting for BEST ORIGINAL S...  \n",
       "8   RT @14gelly: #Oscars2019 \\n@QueenWillRock and ...  \n",
       "9   Helen Mirren, Pharrell Williams, Michael Keato...  \n",
       "10  📢 It's that time again for this year #Oscars a...  \n",
       "11  RT @QueenWillRock: Queen + @adamlambert will R...  \n",
       "12  RT @Angel_nDisguise: browncharl's IG post: \"Th...  \n",
       "13  RT @GabyFaure: #Oscars2019 por @ollyog https:/...  \n",
       "14  RT @QueenWillRock: Queen + @adamlambert will R...  "
      ]
     },
     "execution_count": 17,
     "metadata": {},
     "output_type": "execute_result"
    }
   ],
   "source": [
    "# Initialize an empty DF, and then populate columns\n",
    "tweet_df = pd.DataFrame()\n",
    "tweet_df['tweetID'] = [tweet.id for tweet in result]\n",
    "tweet_df['userID'] = [tweet.user.id for tweet in result]\n",
    "tweet_df['tweetText'] = [tweet.text for tweet in result]\n",
    "tweet_df"
   ]
  },
  {
   "cell_type": "code",
   "execution_count": 18,
   "metadata": {},
   "outputs": [
    {
     "name": "stdout",
     "output_type": "stream",
     "text": [
      "1000\n"
     ]
    }
   ],
   "source": [
    "# Want more than 15? Will need to iterate\n",
    "\n",
    "results = []\n",
    "\n",
    "#Get the first 1000 items based on the search query\n",
    "for tweet in tweepy.Cursor(api.search, q='%23Oscars2019').items(1000):\n",
    "    results.append(tweet)\n",
    "\n",
    "# Verify the number of items returned\n",
    "print(len(results))"
   ]
  }
 ],
 "metadata": {
  "kernelspec": {
   "display_name": "Python 3",
   "language": "python",
   "name": "python3"
  },
  "language_info": {
   "codemirror_mode": {
    "name": "ipython",
    "version": 3
   },
   "file_extension": ".py",
   "mimetype": "text/x-python",
   "name": "python",
   "nbconvert_exporter": "python",
   "pygments_lexer": "ipython3",
   "version": "3.6.5"
  }
 },
 "nbformat": 4,
 "nbformat_minor": 2
}
